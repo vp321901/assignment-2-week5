{
 "cells": [
  {
   "cell_type": "code",
   "execution_count": 1,
   "id": "696b5a99-f9e7-4902-8dc8-9b1dcb171935",
   "metadata": {},
   "outputs": [],
   "source": [
    "        #ANSWER:1"
   ]
  },
  {
   "cell_type": "code",
   "execution_count": null,
   "id": "49f50f1a-3ccb-41cd-a770-32f78c9faf48",
   "metadata": {},
   "outputs": [],
   "source": [
    "#CLASS:- A class is a user-defined blueprint or prototype from which objects are created.\n",
    "#OBJECT:- An Object is an instance of a Class."
   ]
  },
  {
   "cell_type": "code",
   "execution_count": 5,
   "id": "373da25f-fcf1-44e0-9853-6fa9bd221062",
   "metadata": {},
   "outputs": [
    {
     "name": "stdout",
     "output_type": "stream",
     "text": [
      "Hello my name is vipul prakash pandey and I student in pwskill.\n"
     ]
    }
   ],
   "source": [
    "class student:\n",
    "\tdef __init__(somename, name, institute):\n",
    "\t\tsomename.name = name\n",
    "\t\tsomename.institute = institute\n",
    "\n",
    "\tdef show(somename):\n",
    "\t\tprint(\"Hello my name is \" + somename.name +\n",
    "\t\t\t\" and I student in \"+somename.institute+\".\")\n",
    "\n",
    "\n",
    "obj = student(\"vipul prakash pandey\", \"pwskill\")\n",
    "obj.show()\n"
   ]
  },
  {
   "cell_type": "code",
   "execution_count": 7,
   "id": "5ca39b6f-de52-46b9-890f-bbd40efe624f",
   "metadata": {},
   "outputs": [],
   "source": [
    "                   #ANSWER:-2"
   ]
  },
  {
   "cell_type": "code",
   "execution_count": 8,
   "id": "4c8ea13d-90cf-47a9-9d17-f48c8e501a1d",
   "metadata": {},
   "outputs": [],
   "source": [
    "#the four pillar of opps are :-\n",
    "#1-Abstraction.\n",
    "#2-Encapsulation.\n",
    "#3-Inheritance.\n",
    "#4-Polymorphism"
   ]
  },
  {
   "cell_type": "code",
   "execution_count": 9,
   "id": "ea86e7dd-2e06-4629-9467-a2bcb65fab01",
   "metadata": {},
   "outputs": [],
   "source": [
    "                  #ANSWER:-3"
   ]
  },
  {
   "cell_type": "code",
   "execution_count": null,
   "id": "e8be71e4-82c9-43f4-93b7-9e6845b7eac6",
   "metadata": {},
   "outputs": [],
   "source": [
    "#Use the __init__() function to assign values to object properties, or other operations that are necessary to do when the object is being created"
   ]
  },
  {
   "cell_type": "code",
   "execution_count": 21,
   "id": "270a0113-b3c8-4fe1-89f1-8d91f348eaba",
   "metadata": {},
   "outputs": [],
   "source": [
    "class vipul:\n",
    "    \n",
    "    def __init__(self, phone_number, email_id, student_name):\n",
    "        self.phone_number  = phone_number\n",
    "        self.email_id = email_id \n",
    "        self.student_name = student_name\n",
    "        \n",
    "    def return_student_detail(self):\n",
    "        return self.phone_number ,  self.email_id, self.student_name\n",
    "        "
   ]
  },
  {
   "cell_type": "code",
   "execution_count": 22,
   "id": "ed30899f-a7e1-440c-ac70-ea5463954fa3",
   "metadata": {},
   "outputs": [],
   "source": [
    "obj = vipul(9792572237,\"vipul@gamil.com\",\"vipul prakash pandey\")"
   ]
  },
  {
   "cell_type": "code",
   "execution_count": 23,
   "id": "90d4a45a-173a-46ff-b295-7e2b5da807ce",
   "metadata": {},
   "outputs": [
    {
     "data": {
      "text/plain": [
       "(9792572237, 'vipul@gamil.com', 'vipul prakash pandey')"
      ]
     },
     "execution_count": 23,
     "metadata": {},
     "output_type": "execute_result"
    }
   ],
   "source": [
    "obj.return_student_detail()"
   ]
  },
  {
   "cell_type": "code",
   "execution_count": 24,
   "id": "809bdeff-fb84-4878-8353-38e4a7123853",
   "metadata": {},
   "outputs": [],
   "source": [
    "          #ANSWER:-4"
   ]
  },
  {
   "cell_type": "code",
   "execution_count": 25,
   "id": "4feaffef-69d4-4cd9-ab82-8a270eddb88e",
   "metadata": {},
   "outputs": [],
   "source": [
    "#Need for Self in Python\n",
    "#The self variable is used to represent the instance of the class which is often used in object-oriented programming. \n",
    "#It works as a reference to the object."
   ]
  },
  {
   "cell_type": "code",
   "execution_count": 26,
   "id": "77d04100-3292-4635-8d99-661e46ba95cb",
   "metadata": {},
   "outputs": [],
   "source": [
    "        #ANSWER:-5"
   ]
  },
  {
   "cell_type": "code",
   "execution_count": 27,
   "id": "04315142-0ea6-45d6-bd22-b5dfc8eebb13",
   "metadata": {},
   "outputs": [],
   "source": [
    " #Inheritance is a mechanism in which one class acquires the property of another class\n",
    "#There are 5 types of in heritance are present\n",
    "#single inheritance\n",
    "#multiple inheritance\n",
    "#mutilevel inheritance\n",
    "#hybrid inheritance\n",
    "#hirarical inheritance"
   ]
  },
  {
   "cell_type": "code",
   "execution_count": 40,
   "id": "a37fb085-a515-496c-9097-183b718a6a7e",
   "metadata": {},
   "outputs": [
    {
     "name": "stdout",
     "output_type": "stream",
     "text": [
      "This function is in parent class.\n",
      "This function is in child class.\n"
     ]
    }
   ],
   "source": [
    "# Python program to demonstrate\n",
    "# single inheritance\n",
    "\n",
    "# Base class\n",
    "class Parent:\n",
    "\tdef func1(self):\n",
    "\t\tprint(\"This function is in parent class.\")\n",
    "\n",
    "# Derived class\n",
    "\n",
    "\n",
    "class Child(Parent):\n",
    "\tdef func2(self):\n",
    "\t\tprint(\"This function is in child class.\")\n",
    "\n",
    "\n",
    "# Driver's code\n",
    "object = Child()\n",
    "object.func1()\n",
    "object.func2()\n"
   ]
  },
  {
   "cell_type": "code",
   "execution_count": 42,
   "id": "0a8c63e9-223a-4dc8-bcb7-b953980ec2d7",
   "metadata": {},
   "outputs": [
    {
     "data": {
      "text/plain": [
       "'hello vipul'"
      ]
     },
     "execution_count": 42,
     "metadata": {},
     "output_type": "execute_result"
    }
   ],
   "source": [
    "#python programe to demostrate \n",
    "# multiple inheritance\n",
    "\n",
    "class class1():\n",
    "    def test_class1(self):\n",
    "        return \"hello vipul\"\n",
    "    \n",
    "class class2():\n",
    "    \n",
    "    def test_class2(self):\n",
    "        return \"prakash pandey\"\n",
    "    \n",
    "class class3(class1 , class2):\n",
    "    pass\n",
    "\n",
    "obj_class3 = class3()\n",
    "obj_class3.test_class1()"
   ]
  },
  {
   "cell_type": "code",
   "execution_count": 43,
   "id": "d4b80b43-8aa1-4a5b-af3c-aceeac14357e",
   "metadata": {},
   "outputs": [
    {
     "data": {
      "text/plain": [
       "'this is my method of class1'"
      ]
     },
     "execution_count": 43,
     "metadata": {},
     "output_type": "execute_result"
    }
   ],
   "source": [
    "# programe to demostrate\n",
    "# multilevel inheritance\n",
    "\n",
    "\n",
    "class class1():\n",
    "    def test_class1(self):\n",
    "        return \"this is my method of class1\"\n",
    "\n",
    "    \n",
    "class class2(class1):\n",
    "    \n",
    "    def test_class2():\n",
    "        return \"this is the method of my class2\"\n",
    "    \n",
    "class class3(class2):\n",
    "    pass\n",
    "\n",
    "obj_class3 =  class3()\n",
    "\n",
    "obj_class3.test_class1()\n"
   ]
  },
  {
   "cell_type": "code",
   "execution_count": null,
   "id": "238e5bc8-4131-4f9c-b78c-c557f8eaf11c",
   "metadata": {},
   "outputs": [],
   "source": []
  }
 ],
 "metadata": {
  "kernelspec": {
   "display_name": "Python 3 (ipykernel)",
   "language": "python",
   "name": "python3"
  },
  "language_info": {
   "codemirror_mode": {
    "name": "ipython",
    "version": 3
   },
   "file_extension": ".py",
   "mimetype": "text/x-python",
   "name": "python",
   "nbconvert_exporter": "python",
   "pygments_lexer": "ipython3",
   "version": "3.10.8"
  }
 },
 "nbformat": 4,
 "nbformat_minor": 5
}
